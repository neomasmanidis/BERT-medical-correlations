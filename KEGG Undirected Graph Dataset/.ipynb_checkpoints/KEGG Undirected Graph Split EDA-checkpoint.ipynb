{
 "cells": [
  {
   "cell_type": "markdown",
   "id": "08830e32",
   "metadata": {},
   "source": [
    "# Modules"
   ]
  },
  {
   "cell_type": "code",
   "execution_count": 1,
   "id": "6dabfee2",
   "metadata": {},
   "outputs": [],
   "source": [
    "import pandas as pd\n",
    "import networkx as nx\n",
    "import seaborn as sns\n",
    "import matplotlib.pyplot as plt\n",
    "from tqdm import tqdm\n",
    "from community import community_louvain\n",
    "import matplotlib.cm as cm\n",
    "import csv\n",
    "import random\n",
    "\n",
    "%matplotlib inline"
   ]
  },
  {
   "cell_type": "markdown",
   "id": "e16fa706",
   "metadata": {},
   "source": [
    "# Functions"
   ]
  },
  {
   "cell_type": "code",
   "execution_count": 2,
   "id": "2ac06142",
   "metadata": {},
   "outputs": [],
   "source": [
    "def create_kegg_graph(data_df, include_reactions = True):\n",
    "    \n",
    "    G = nx.MultiDiGraph()  # At first create multigraph, later it can be converted\n",
    "    \n",
    "    unique_entries = []  # List of unique entries. Each gene, ompound, etc needs to be stored as 1 node\n",
    "    \n",
    "    # Iterate data to create all nodes\n",
    "    for index, entry in tqdm(data_df.iterrows(), total=data_df.shape[0]):\n",
    "        \n",
    "        if not include_reactions and entry['link type']=='reaction':\n",
    "            continue            \n",
    "        \n",
    "        # -- Handle node for Head --\n",
    "        n1 = entry['head id']\n",
    "        if n1 not in unique_entries:  # If there is no node for this id yet\n",
    "            \n",
    "            unique_entries.append(n1)\n",
    "            \n",
    "            #Add node n1\n",
    "            G.add_node(n1)\n",
    "            # Assign node type\n",
    "            if n1[0:3] == 'hsa':\n",
    "                t = 'gene'\n",
    "            elif n1[0:3] == 'cpd':\n",
    "                t = 'compound'\n",
    "            else:\n",
    "                temp = n1.split(\":\")\n",
    "                t = temp[0]\n",
    "            # Assign rest of node attributes\n",
    "            if entry['head full name'] == '':\n",
    "                full_name = n1\n",
    "            else:\n",
    "                full_name = entry['head full name']\n",
    "            pathway = str(entry['pathway'])\n",
    "            attr = {n1: {'type':t, 'full name': full_name, 'pathways': [pathway]}}\n",
    "            nx.set_node_attributes(G, attr)\n",
    "            \n",
    "        else:  # If there is a node for this id already\n",
    "            # Add the pathway info (if different pathway)\n",
    "            temp = G.nodes[n1]['pathways']\n",
    "            if entry['pathway'] not in temp:\n",
    "                temp.append(entry['pathway'])\n",
    "                G.nodes[n1]['pathways'] = temp\n",
    "\n",
    "        # -- Handle node for Tail --\n",
    "        n2 = entry['tail id']\n",
    "        if n2 not in unique_entries:  # If there is no node for this id yet\n",
    "            \n",
    "            unique_entries.append(n2)\n",
    "            \n",
    "            #Add node n2\n",
    "            G.add_node(n2)\n",
    "            # Assign node type\n",
    "            if n2[0:3] == 'hsa':\n",
    "                t = 'gene'\n",
    "            elif n2[0:3] == 'cpd':\n",
    "                t = 'compound'\n",
    "            else:\n",
    "                temp = n2.split(\":\")\n",
    "                t = temp[0]\n",
    "            # Assign rest of node attributes\n",
    "            if entry['tail full name'] == '':\n",
    "                full_name = n2\n",
    "            else:\n",
    "                full_name = entry['tail full name']\n",
    "            pathway = str(entry['pathway'])\n",
    "            attr = {n2: {'type':t, 'full name': full_name, 'pathways': [pathway]}}\n",
    "            nx.set_node_attributes(G, attr)\n",
    "            \n",
    "        else:  # If there is a node for this id already\n",
    "            # Add the pathway info (if different pathway)\n",
    "            temp = G.nodes[n2]['pathways']\n",
    "            if entry['pathway'] not in temp:\n",
    "                temp.append(entry['pathway'])\n",
    "                G.nodes[n2]['pathways'] = temp\n",
    "        \n",
    "        \n",
    "     # Iterate data to find all relations           \n",
    "    for index, row in tqdm(data_df.iterrows(), total=data_df.shape[0]):\n",
    "        \n",
    "        if not include_reactions and row['link type']=='reaction':\n",
    "            continue \n",
    "        \n",
    "        head = str(row['head id'])\n",
    "        tail = str(row['tail id'])\n",
    "        pathway = str(row['pathway'])\n",
    "        link_type = str(row['link type'])\n",
    "        rel_name = str(row['relation name'])\n",
    "        if head in G.nodes and tail in G.nodes:\n",
    "            G.add_edge(head, tail,pathway = pathway, link_type= link_type, relation_name= rel_name)\n",
    "        else:\n",
    "            print('node not found @row '+str(index))\n",
    "        \n",
    "    return G\n",
    "    "
   ]
  },
  {
   "cell_type": "markdown",
   "id": "39ca0715",
   "metadata": {},
   "source": [
    "# Load Data"
   ]
  },
  {
   "cell_type": "code",
   "execution_count": 3,
   "id": "8e9ae119",
   "metadata": {},
   "outputs": [
    {
     "name": "stderr",
     "output_type": "stream",
     "text": [
      "100%|██████████████████████████████████████████████████████████████████████████| 17389/17389 [00:02<00:00, 6777.88it/s]\n",
      "100%|█████████████████████████████████████████████████████████████████████████| 17389/17389 [00:01<00:00, 13497.28it/s]\n"
     ]
    },
    {
     "name": "stdout",
     "output_type": "stream",
     "text": [
      "Graph with 5185 nodes and 11766 edges\n"
     ]
    }
   ],
   "source": [
    "# === load data ===\n",
    "df_relations = pd.read_csv('../KEGG Pathways Dataset Collection/All_relations-Curated-full_names.csv')\n",
    "G_directed = create_kegg_graph(df_relations)\n",
    "G_undirected = nx.Graph(G_directed)\n",
    "print(G_undirected)"
   ]
  },
  {
   "cell_type": "code",
   "execution_count": 4,
   "id": "2c0baa69",
   "metadata": {},
   "outputs": [
    {
     "name": "stdout",
     "output_type": "stream",
     "text": [
      "Graph with 4812 nodes and 11539 edges\n"
     ]
    }
   ],
   "source": [
    "# Keep main component only. Prevent biased zeros to unconnected nodes\n",
    "largest_cc = max(nx.connected_components(G_undirected), key=len)\n",
    "lsmain = list(largest_cc)\n",
    "\n",
    "G_undirected_main = G_undirected.copy()\n",
    "remove = []\n",
    "for node in G_undirected_main.nodes:\n",
    "    if node not in lsmain:\n",
    "        remove.append(node)\n",
    "        \n",
    "for node in remove:        \n",
    "    G_undirected_main.remove_node(node)\n",
    "        \n",
    "print(G_undirected_main)"
   ]
  },
  {
   "cell_type": "code",
   "execution_count": 15,
   "id": "cd029f79",
   "metadata": {},
   "outputs": [],
   "source": [
    "df_nodes_A = pd.read_csv\n",
    "df_nodes_A.to_csv('Hops Dataset '+save_version+' - Nodes A.csv',index=False)\n",
    "\n",
    "df_nodes_B = pd.DataFrame(G_B.nodes)\n",
    "df_nodes_B.to_csv('Hops Dataset '+save_version+' - Nodes B.csv',index=False)"
   ]
  },
  {
   "cell_type": "code",
   "execution_count": 16,
   "id": "366d07e4",
   "metadata": {},
   "outputs": [
    {
     "name": "stderr",
     "output_type": "stream",
     "text": [
      "100%|██████████████████████████████████████████████████████████████████████████████| 1430/1430 [01:51<00:00, 12.85it/s]"
     ]
    },
    {
     "name": "stdout",
     "output_type": "stream",
     "text": [
      "Total Graph A dataset rows:\n",
      "1023165\n"
     ]
    },
    {
     "name": "stderr",
     "output_type": "stream",
     "text": [
      "\n"
     ]
    }
   ],
   "source": [
    "# Find shortest path (= Hops) based on original total Graph\n",
    "visited_nodes = []\n",
    "Hops_A = []\n",
    "\n",
    "for node1 in tqdm(G_A.nodes):\n",
    "    for node2 in G_A.nodes:\n",
    "        if node2 in visited_nodes:\n",
    "            continue\n",
    "        l = nx.shortest_path_length(G_undirected_main, source = node1, target = node2)\n",
    "        Hops_A.append([G_A.nodes[node1]['full name'], G_A.nodes[node2]['full name'], l])\n",
    "    \n",
    "    visited_nodes.append(node1)\n",
    "\n",
    "print(\"Total Graph A dataset rows:\")    \n",
    "print(len(Hops_A))"
   ]
  },
  {
   "cell_type": "code",
   "execution_count": 17,
   "id": "2df11eff",
   "metadata": {},
   "outputs": [
    {
     "name": "stderr",
     "output_type": "stream",
     "text": [
      "100%|██████████████████████████████████████████████████████████████████████████████| 3382/3382 [12:14<00:00,  4.61it/s]"
     ]
    },
    {
     "name": "stdout",
     "output_type": "stream",
     "text": [
      "Total Graph B dataset rows:\n",
      "5720653\n"
     ]
    },
    {
     "name": "stderr",
     "output_type": "stream",
     "text": [
      "\n"
     ]
    }
   ],
   "source": [
    "# Find shortest path (= Hops) based on original total Graph\n",
    "visited_nodes = []\n",
    "Hops_B = []\n",
    "\n",
    "for node1 in tqdm(G_B.nodes):\n",
    "    for node2 in G_B.nodes:\n",
    "        if node2 in visited_nodes:\n",
    "            continue\n",
    "        l = nx.shortest_path_length(G_undirected_main, source = node1, target = node2)\n",
    "        Hops_B.append([G_B.nodes[node1]['full name'], G_B.nodes[node2]['full name'], l])\n",
    "    \n",
    "    visited_nodes.append(node1)\n",
    "\n",
    "print(\"Total Graph B dataset rows:\")    \n",
    "print(len(Hops_B))"
   ]
  },
  {
   "cell_type": "code",
   "execution_count": 18,
   "id": "896c1169",
   "metadata": {},
   "outputs": [
    {
     "data": {
      "image/png": "[encoded data removed]",
      "text/plain": [
       "<Figure size 432x288 with 1 Axes>"
      ]
     },
     "metadata": {
      "needs_background": "light"
     },
     "output_type": "display_data"
    },
    {
     "data": {
      "image/png": "[encoded data removed]",
      "text/plain": [
       "<Figure size 432x288 with 1 Axes>"
      ]
     },
     "metadata": {
      "needs_background": "light"
     },
     "output_type": "display_data"
    }
   ],
   "source": [
    "# All data to csv: HEAD - TAIL - HOPS\n",
    "df_Hops_A = pd.DataFrame(Hops_A,columns = [\"Head\", \"Tail\", \"Hops\"])\n",
    "df_Hops_A.to_csv('Hops Dataset '+save_version+' - A.csv', index=False)\n",
    "sns.histplot(df_Hops_A[\"Hops\"])\n",
    "plt.show()\n",
    "\n",
    "df_Hops_B = pd.DataFrame(Hops_B,columns = [\"Head\", \"Tail\", \"Hops\"])\n",
    "df_Hops_B.to_csv('Hops Dataset '+save_version+' - B.csv', index=False)\n",
    "sns.histplot(df_Hops_B[\"Hops\"])\n",
    "plt.show()"
   ]
  },
  {
   "cell_type": "code",
   "execution_count": 13,
   "id": "ed908340",
   "metadata": {},
   "outputs": [],
   "source": [
    "# SAMPLE Stratified Graph A\n",
    "df_sub = df_Hops_A.groupby('Hops', group_keys=False).apply(lambda x: x.sample(min(len(x), 100000)))\n",
    "df_sub.to_csv('Hops Dataset 100K '+save_version+' - A.csv', index=False)\n",
    "\n",
    "# SAMPLE Stratified Graph B\n",
    "df_sub = df_Hops_B.groupby('Hops', group_keys=False).apply(lambda x: x.sample(min(len(x), 100000)))\n",
    "df_sub.to_csv('Hops Dataset 100K '+save_version+' - B.csv', index=False)"
   ]
  },
  {
   "cell_type": "code",
   "execution_count": 6,
   "id": "347e0e50",
   "metadata": {},
   "outputs": [
    {
     "name": "stderr",
     "output_type": "stream",
     "text": [
      "100%|██████████████████████████████████████████████████████████████████████████████| 4812/4812 [27:02<00:00,  2.97it/s]\n"
     ]
    },
    {
     "name": "stdout",
     "output_type": "stream",
     "text": [
      "Total Distant pairs dataset rows:\n",
      "292491\n"
     ]
    }
   ],
   "source": [
    "# In original Graph, find all distant pairs (>10 Hops)\n",
    "\n",
    "visited_nodes = []\n",
    "Hops_Dis = []\n",
    "\n",
    "for node1 in tqdm(G_undirected_main.nodes):\n",
    "    for node2 in G_undirected_main.nodes:\n",
    "        if node2 in visited_nodes:\n",
    "            continue\n",
    "        l = nx.shortest_path_length(G_undirected_main, source = node1, target = node2)\n",
    "        if l > 10:\n",
    "            Hops_Dis.append([G_undirected_main.nodes[node1]['full name'], G_undirected_main.nodes[node2]['full name'], l])\n",
    "    \n",
    "    visited_nodes.append(node1)\n",
    "\n",
    "print(\"Total Distant pairs dataset rows:\") \n",
    "print(len(Hops_Dis))\n",
    "\n",
    "df_Hops_Dis = pd.DataFrame(Hops_Dis,columns = [\"Head\", \"Tail\", \"Hops\"])\n",
    "df_Hops_Dis.to_csv('Distant pairs Undirected.csv', index=False)"
   ]
  },
  {
   "cell_type": "code",
   "execution_count": 7,
   "id": "94b43a65",
   "metadata": {},
   "outputs": [
    {
     "data": {
      "image/png": "[encoded data removed]",
      "text/plain": [
       "<Figure size 432x288 with 1 Axes>"
      ]
     },
     "metadata": {
      "needs_background": "light"
     },
     "output_type": "display_data"
    }
   ],
   "source": [
    "sns.histplot(df_Hops_Dis[\"Hops\"])\n",
    "plt.show()"
   ]
  },
  {
   "cell_type": "code",
   "execution_count": null,
   "id": "2c020f5d",
   "metadata": {},
   "outputs": [],
   "source": []
  }
 ],
 "metadata": {
  "kernelspec": {
   "display_name": "Python 3 (ipykernel)",
   "language": "python",
   "name": "python3"
  },
  "language_info": {
   "codemirror_mode": {
    "name": "ipython",
    "version": 3
   },
   "file_extension": ".py",
   "mimetype": "text/x-python",
   "name": "python",
   "nbconvert_exporter": "python",
   "pygments_lexer": "ipython3",
   "version": "3.9.7"
  }
 },
 "nbformat": 4,
 "nbformat_minor": 5
}
